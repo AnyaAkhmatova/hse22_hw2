{
  "nbformat": 4,
  "nbformat_minor": 0,
  "metadata": {
    "colab": {
      "provenance": [],
      "collapsed_sections": []
    },
    "kernelspec": {
      "name": "python3",
      "display_name": "Python 3"
    },
    "language_info": {
      "name": "python"
    }
  },
  "cells": [
    {
      "cell_type": "markdown",
      "source": [
        "# Скачиваем данные и устанавливаем программы"
      ],
      "metadata": {
        "id": "WJ71oQTxShEj"
      }
    },
    {
      "cell_type": "code",
      "source": [
        "!wget https://raw.githubusercontent.com/AnyaAkhmatova/hse22_hw2/main/data/gms2.lst"
      ],
      "metadata": {
        "id": "fWSU9pxNTOSR",
        "colab": {
          "base_uri": "https://localhost:8080/"
        },
        "outputId": "6ff7d1ac-df46-4b91-e220-5c351879623c"
      },
      "execution_count": null,
      "outputs": [
        {
          "output_type": "stream",
          "name": "stdout",
          "text": [
            "--2022-10-19 13:31:30--  https://raw.githubusercontent.com/AnyaAkhmatova/hse22_hw2/main/data/gms2.lst\n",
            "Resolving raw.githubusercontent.com (raw.githubusercontent.com)... 185.199.108.133, 185.199.109.133, 185.199.110.133, ...\n",
            "Connecting to raw.githubusercontent.com (raw.githubusercontent.com)|185.199.108.133|:443... connected.\n",
            "HTTP request sent, awaiting response... 200 OK\n",
            "Length: 220305 (215K) [text/plain]\n",
            "Saving to: ‘gms2.lst’\n",
            "\n",
            "\rgms2.lst              0%[                    ]       0  --.-KB/s               \rgms2.lst            100%[===================>] 215.14K  --.-KB/s    in 0.003s  \n",
            "\n",
            "2022-10-19 13:31:30 (67.6 MB/s) - ‘gms2.lst’ saved [220305/220305]\n",
            "\n"
          ]
        }
      ]
    },
    {
      "cell_type": "code",
      "source": [
        "!wget https://raw.githubusercontent.com/AnyaAkhmatova/hse22_hw1/main/data/scaffolds.fasta"
      ],
      "metadata": {
        "id": "yWoD0myNTVi8",
        "colab": {
          "base_uri": "https://localhost:8080/"
        },
        "outputId": "53defb71-7413-4820-fbd6-3b8fc8775248"
      },
      "execution_count": null,
      "outputs": [
        {
          "output_type": "stream",
          "name": "stdout",
          "text": [
            "--2022-10-19 13:31:32--  https://raw.githubusercontent.com/AnyaAkhmatova/hse22_hw1/main/data/scaffolds.fasta\n",
            "Resolving raw.githubusercontent.com (raw.githubusercontent.com)... 185.199.108.133, 185.199.109.133, 185.199.110.133, ...\n",
            "Connecting to raw.githubusercontent.com (raw.githubusercontent.com)|185.199.108.133|:443... connected.\n",
            "HTTP request sent, awaiting response... 200 OK\n",
            "Length: 3971948 (3.8M) [text/plain]\n",
            "Saving to: ‘scaffolds.fasta’\n",
            "\n",
            "\rscaffolds.fasta       0%[                    ]       0  --.-KB/s               \rscaffolds.fasta     100%[===================>]   3.79M  --.-KB/s    in 0.01s   \n",
            "\n",
            "2022-10-19 13:31:32 (264 MB/s) - ‘scaffolds.fasta’ saved [3971948/3971948]\n",
            "\n"
          ]
        }
      ]
    },
    {
      "cell_type": "code",
      "source": [
        "!wget https://raw.githubusercontent.com/AnyaAkhmatova/hse22_hw2/main/data/proteins.fasta"
      ],
      "metadata": {
        "id": "FkuulZekTbh9",
        "colab": {
          "base_uri": "https://localhost:8080/"
        },
        "outputId": "13a6de06-7a9c-4e17-c95e-4271a75e5405"
      },
      "execution_count": null,
      "outputs": [
        {
          "output_type": "stream",
          "name": "stdout",
          "text": [
            "--2022-10-19 13:31:34--  https://raw.githubusercontent.com/AnyaAkhmatova/hse22_hw2/main/data/proteins.fasta\n",
            "Resolving raw.githubusercontent.com (raw.githubusercontent.com)... 185.199.108.133, 185.199.109.133, 185.199.110.133, ...\n",
            "Connecting to raw.githubusercontent.com (raw.githubusercontent.com)|185.199.108.133|:443... connected.\n",
            "HTTP request sent, awaiting response... 200 OK\n",
            "Length: 1403607 (1.3M) [text/plain]\n",
            "Saving to: ‘proteins.fasta’\n",
            "\n",
            "\rproteins.fasta        0%[                    ]       0  --.-KB/s               \rproteins.fasta      100%[===================>]   1.34M  --.-KB/s    in 0.009s  \n",
            "\n",
            "2022-10-19 13:31:34 (155 MB/s) - ‘proteins.fasta’ saved [1403607/1403607]\n",
            "\n"
          ]
        }
      ]
    },
    {
      "cell_type": "code",
      "source": [
        "!wget https://raw.githubusercontent.com/AnyaAkhmatova/hse22_hw2/main/data/scaffolds.hits_from_MIL_1.txt"
      ],
      "metadata": {
        "id": "wljcApdJTjGr",
        "colab": {
          "base_uri": "https://localhost:8080/"
        },
        "outputId": "26ef9753-5f47-404e-8d65-b4cced5a0fbd"
      },
      "execution_count": null,
      "outputs": [
        {
          "output_type": "stream",
          "name": "stdout",
          "text": [
            "--2022-10-19 13:31:39--  https://raw.githubusercontent.com/AnyaAkhmatova/hse22_hw2/main/data/scaffolds.hits_from_MIL_1.txt\n",
            "Resolving raw.githubusercontent.com (raw.githubusercontent.com)... 185.199.108.133, 185.199.109.133, 185.199.110.133, ...\n",
            "Connecting to raw.githubusercontent.com (raw.githubusercontent.com)|185.199.108.133|:443... connected.\n",
            "HTTP request sent, awaiting response... 200 OK\n",
            "Length: 870940 (851K) [text/plain]\n",
            "Saving to: ‘scaffolds.hits_from_MIL_1.txt’\n",
            "\n",
            "\r          scaffolds   0%[                    ]       0  --.-KB/s               \rscaffolds.hits_from 100%[===================>] 850.53K  --.-KB/s    in 0.007s  \n",
            "\n",
            "2022-10-19 13:31:39 (117 MB/s) - ‘scaffolds.hits_from_MIL_1.txt’ saved [870940/870940]\n",
            "\n"
          ]
        }
      ]
    },
    {
      "cell_type": "code",
      "source": [
        "!wget https://raw.githubusercontent.com/AnyaAkhmatova/hse22_hw2/main/data/scaffolds.hits_from_SwissProt.txt"
      ],
      "metadata": {
        "id": "7ZGyVtAfTopz",
        "colab": {
          "base_uri": "https://localhost:8080/"
        },
        "outputId": "939e9c0a-2c41-4275-99b8-132bf6a738cf"
      },
      "execution_count": null,
      "outputs": [
        {
          "output_type": "stream",
          "name": "stdout",
          "text": [
            "--2022-10-19 13:31:42--  https://raw.githubusercontent.com/AnyaAkhmatova/hse22_hw2/main/data/scaffolds.hits_from_SwissProt.txt\n",
            "Resolving raw.githubusercontent.com (raw.githubusercontent.com)... 185.199.108.133, 185.199.109.133, 185.199.110.133, ...\n",
            "Connecting to raw.githubusercontent.com (raw.githubusercontent.com)|185.199.108.133|:443... connected.\n",
            "HTTP request sent, awaiting response... 200 OK\n",
            "Length: 66190 (65K) [text/plain]\n",
            "Saving to: ‘scaffolds.hits_from_SwissProt.txt’\n",
            "\n",
            "\r          scaffolds   0%[                    ]       0  --.-KB/s               \rscaffolds.hits_from 100%[===================>]  64.64K  --.-KB/s    in 0.001s  \n",
            "\n",
            "2022-10-19 13:31:42 (49.6 MB/s) - ‘scaffolds.hits_from_SwissProt.txt’ saved [66190/66190]\n",
            "\n"
          ]
        }
      ]
    },
    {
      "cell_type": "markdown",
      "metadata": {
        "id": "EkEflOHmCHHW"
      },
      "source": [
        "## Скачиваем геном близкородственной бактерии T.oleivorans"
      ]
    },
    {
      "cell_type": "markdown",
      "metadata": {
        "id": "noBYTW1bRH9O"
      },
      "source": [
        "Геном, последовательности генов (нт) и белков (протеом) для бактерии Thalassolituus oleivorans MIL-1\n",
        "https://www.ncbi.nlm.nih.gov/nuccore/HF680312"
      ]
    },
    {
      "cell_type": "code",
      "source": [
        "!sh -c \"$(curl -fsSL ftp://ftp.ncbi.nlm.nih.gov/entrez/entrezdirect/install-edirect.sh)\""
      ],
      "metadata": {
        "id": "bqv3FR5efmk6",
        "colab": {
          "base_uri": "https://localhost:8080/"
        },
        "outputId": "310c4f11-c860-4395-c3d9-6f140b1276f9"
      },
      "execution_count": null,
      "outputs": [
        {
          "output_type": "stream",
          "name": "stdout",
          "text": [
            "\n",
            "Entrez Direct has been successfully downloaded and installed.\n",
            "\n",
            "\n",
            "To activate EDirect for this terminal session, please execute the following:\n",
            "\n",
            "export PATH=${PATH}:${HOME}/edirect\n",
            "\n"
          ]
        }
      ]
    },
    {
      "cell_type": "code",
      "source": [
        "!$HOME/edirect/efetch -db nuccore -id HF680312 -format gb  >  T_oleivorans_MIL_1.gbk"
      ],
      "metadata": {
        "id": "4O3-rUx4fvbw"
      },
      "execution_count": null,
      "outputs": []
    },
    {
      "cell_type": "code",
      "metadata": {
        "id": "j2uga-mieSB6",
        "colab": {
          "base_uri": "https://localhost:8080/"
        },
        "outputId": "c70c08fe-3fbf-4f0c-83ac-f5956fab6d82"
      },
      "source": [
        "!pip install biopython"
      ],
      "execution_count": null,
      "outputs": [
        {
          "output_type": "stream",
          "name": "stdout",
          "text": [
            "Looking in indexes: https://pypi.org/simple, https://us-python.pkg.dev/colab-wheels/public/simple/\n",
            "Requirement already satisfied: biopython in /usr/local/lib/python3.7/dist-packages (1.79)\n",
            "Requirement already satisfied: numpy in /usr/local/lib/python3.7/dist-packages (from biopython) (1.21.6)\n"
          ]
        }
      ]
    },
    {
      "cell_type": "markdown",
      "source": [
        "## Аннотация генома"
      ],
      "metadata": {
        "id": "EJIw_JDLUgt5"
      }
    },
    {
      "cell_type": "code",
      "metadata": {
        "id": "1hegJvwMIiPe"
      },
      "source": [
        "from Bio import SeqIO\n",
        "\n",
        "scaffolds = dict() \n",
        "\n",
        "for record in SeqIO.parse(\"/content/scaffolds.fasta\", \"fasta\"):\n",
        "  record.annotations['molecule_type'] = 'DNA'\n",
        "  record.annotations['date'] = \"19-OCT-2022\"\n",
        "  scaffolds[record.id] = record"
      ],
      "execution_count": 167,
      "outputs": []
    },
    {
      "cell_type": "code",
      "source": [
        "print(scaffolds[\"scaffold1_cov231\"])"
      ],
      "metadata": {
        "colab": {
          "base_uri": "https://localhost:8080/"
        },
        "id": "ZN5IpYksDEh_",
        "outputId": "7956523a-2a69-4682-825d-dc9b818c777f"
      },
      "execution_count": 168,
      "outputs": [
        {
          "output_type": "stream",
          "name": "stdout",
          "text": [
            "ID: scaffold1_cov231\n",
            "Name: scaffold1_cov231\n",
            "Description: scaffold1_cov231\n",
            "Number of features: 0\n",
            "/molecule_type=DNA\n",
            "/date=19-OCT-2022\n",
            "Seq('CACTTTTTTAGTAGGTCGACCTCTTGCTTAAGCTTGCGATTTTCGGCTTCTAAT...TCA')\n"
          ]
        }
      ]
    },
    {
      "cell_type": "markdown",
      "source": [
        "## Добавляем координаты генов и трансляции генов"
      ],
      "metadata": {
        "id": "nuikKeO1bL7N"
      }
    },
    {
      "cell_type": "code",
      "metadata": {
        "id": "4cXKMhtmYZ9t"
      },
      "source": [
        "from Bio.SeqFeature import SeqFeature, FeatureLocation\n",
        "\n",
        "for record in SeqIO.parse(\"/content/proteins.fasta\", \"fasta\"):\n",
        "  gene_description = record.description.split() # id, scaffold, start, end, strand, ...\n",
        "  id = gene_description[0]\n",
        "  scaffold = gene_description[1]\n",
        "  start = int(gene_description[2])\n",
        "  end = int(gene_description[3])\n",
        "  strand = 1 if gene_description[4] == '+' else -1\n",
        "  \n",
        "  feature = SeqFeature(FeatureLocation(start, end, strand=strand), type=\"CDS\")\n",
        "  feature.qualifiers['locus_tag'] = [id]\n",
        "  feature.qualifiers['translation'] = [record.seq]\n",
        "  scaffolds[scaffold].features.append(feature)"
      ],
      "execution_count": 169,
      "outputs": []
    },
    {
      "cell_type": "code",
      "source": [
        "print(scaffolds[\"scaffold1_cov231\"])"
      ],
      "metadata": {
        "colab": {
          "base_uri": "https://localhost:8080/"
        },
        "id": "uf88Rh4EDU8R",
        "outputId": "b6792b3a-f580-47c3-acd0-cd4f77c74e03"
      },
      "execution_count": 170,
      "outputs": [
        {
          "output_type": "stream",
          "name": "stdout",
          "text": [
            "ID: scaffold1_cov231\n",
            "Name: scaffold1_cov231\n",
            "Description: scaffold1_cov231\n",
            "Number of features: 3536\n",
            "/molecule_type=DNA\n",
            "/date=19-OCT-2022\n",
            "Seq('CACTTTTTTAGTAGGTCGACCTCTTGCTTAAGCTTGCGATTTTCGGCTTCTAAT...TCA')\n"
          ]
        }
      ]
    },
    {
      "cell_type": "code",
      "source": [
        "print(scaffolds[\"scaffold1_cov231\"].features[0])"
      ],
      "metadata": {
        "colab": {
          "base_uri": "https://localhost:8080/"
        },
        "id": "qO-WQtsRD-eV",
        "outputId": "18d3f106-de49-4bbe-cf32-0a7d1f96077e"
      },
      "execution_count": 171,
      "outputs": [
        {
          "output_type": "stream",
          "name": "stdout",
          "text": [
            "type: CDS\n",
            "location: [3:299](-)\n",
            "qualifiers:\n",
            "    Key: locus_tag, Value: ['1']\n",
            "    Key: translation, Value: [Seq('MPKYTKPRKTWQYSNEFKVKAVQLSLIEGIQVKEVAVTLDIHPFMLSRWRKEYR...LKK')]\n",
            "\n"
          ]
        }
      ]
    },
    {
      "cell_type": "markdown",
      "source": [
        "## Добавляем функции белков (из бактерии MIL-1)"
      ],
      "metadata": {
        "id": "D2UNiwEyet54"
      }
    },
    {
      "cell_type": "code",
      "source": [
        "import pandas as pd\n",
        "import numpy as np\n",
        "\n",
        "df = pd.read_csv(\"/content/scaffolds.hits_from_MIL_1.txt\", sep='\\t', header=None, names=\n",
        "                 [\"Query sequence ID\", \"Subject sequence ID\", \"Percentage of identical positions\", \n",
        "                  \"Alignment length\", \"Number of mismatches\", \"Number of gap openings\",\n",
        "                  \"Start position of alignment on query sequence\", \"End position of alignment on query sequence\",\n",
        "                  \"Start position of alignment on subject sequence\", \"End position of alignment on subject sequence\",\n",
        "                  \"Expect value\", \"Bit score\"])\n",
        "df = df[pd.DataFrame([line for line in df['Subject sequence ID'].str.split('_').values]).loc[:, 2].str[0:3] == 'CCU']\n",
        "df = df.sort_values(by=[\"Bit score\"], ascending=False).drop_duplicates(subset=[\"Query sequence ID\"]).sort_values(by=[\"Query sequence ID\"])\n",
        "df.head()"
      ],
      "metadata": {
        "id": "L8dFyRiakGm2",
        "colab": {
          "base_uri": "https://localhost:8080/",
          "height": 409
        },
        "outputId": "47f39f35-d3d1-4c2c-cd86-f118fe33dca4"
      },
      "execution_count": 172,
      "outputs": [
        {
          "output_type": "execute_result",
          "data": {
            "text/plain": [
              "    Query sequence ID                  Subject sequence ID  \\\n",
              "0                   1  lcl|HF680312.1_prot_CCU71653.1_1204   \n",
              "7                   3  lcl|HF680312.1_prot_CCU71928.1_1479   \n",
              "8                   5  lcl|HF680312.1_prot_CCU71924.1_1475   \n",
              "9                   6  lcl|HF680312.1_prot_CCU71587.1_1138   \n",
              "11                  7  lcl|HF680312.1_prot_CCU71586.1_1137   \n",
              "\n",
              "    Percentage of identical positions  Alignment length  Number of mismatches  \\\n",
              "0                              98.990                99                     1   \n",
              "7                             100.000               173                     0   \n",
              "8                              97.143                35                     1   \n",
              "9                              98.024               253                     5   \n",
              "11                            100.000               391                     0   \n",
              "\n",
              "    Number of gap openings  Start position of alignment on query sequence  \\\n",
              "0                        0                                              1   \n",
              "7                        0                                              1   \n",
              "8                        0                                              1   \n",
              "9                        0                                              1   \n",
              "11                       0                                              1   \n",
              "\n",
              "    End position of alignment on query sequence  \\\n",
              "0                                            99   \n",
              "7                                           173   \n",
              "8                                            35   \n",
              "9                                           253   \n",
              "11                                          391   \n",
              "\n",
              "    Start position of alignment on subject sequence  \\\n",
              "0                                                 1   \n",
              "7                                                 1   \n",
              "8                                                 1   \n",
              "9                                                29   \n",
              "11                                                1   \n",
              "\n",
              "    End position of alignment on subject sequence   Expect value  Bit score  \n",
              "0                                              99   8.080000e-68      196.0  \n",
              "7                                             173  1.660000e-130      359.0  \n",
              "8                                              35   1.510000e-19       75.1  \n",
              "9                                             281  1.320000e-176      484.0  \n",
              "11                                            391   0.000000e+00      810.0  "
            ],
            "text/html": [
              "\n",
              "  <div id=\"df-b96f5760-de3b-4bbc-8338-875b86c7e306\">\n",
              "    <div class=\"colab-df-container\">\n",
              "      <div>\n",
              "<style scoped>\n",
              "    .dataframe tbody tr th:only-of-type {\n",
              "        vertical-align: middle;\n",
              "    }\n",
              "\n",
              "    .dataframe tbody tr th {\n",
              "        vertical-align: top;\n",
              "    }\n",
              "\n",
              "    .dataframe thead th {\n",
              "        text-align: right;\n",
              "    }\n",
              "</style>\n",
              "<table border=\"1\" class=\"dataframe\">\n",
              "  <thead>\n",
              "    <tr style=\"text-align: right;\">\n",
              "      <th></th>\n",
              "      <th>Query sequence ID</th>\n",
              "      <th>Subject sequence ID</th>\n",
              "      <th>Percentage of identical positions</th>\n",
              "      <th>Alignment length</th>\n",
              "      <th>Number of mismatches</th>\n",
              "      <th>Number of gap openings</th>\n",
              "      <th>Start position of alignment on query sequence</th>\n",
              "      <th>End position of alignment on query sequence</th>\n",
              "      <th>Start position of alignment on subject sequence</th>\n",
              "      <th>End position of alignment on subject sequence</th>\n",
              "      <th>Expect value</th>\n",
              "      <th>Bit score</th>\n",
              "    </tr>\n",
              "  </thead>\n",
              "  <tbody>\n",
              "    <tr>\n",
              "      <th>0</th>\n",
              "      <td>1</td>\n",
              "      <td>lcl|HF680312.1_prot_CCU71653.1_1204</td>\n",
              "      <td>98.990</td>\n",
              "      <td>99</td>\n",
              "      <td>1</td>\n",
              "      <td>0</td>\n",
              "      <td>1</td>\n",
              "      <td>99</td>\n",
              "      <td>1</td>\n",
              "      <td>99</td>\n",
              "      <td>8.080000e-68</td>\n",
              "      <td>196.0</td>\n",
              "    </tr>\n",
              "    <tr>\n",
              "      <th>7</th>\n",
              "      <td>3</td>\n",
              "      <td>lcl|HF680312.1_prot_CCU71928.1_1479</td>\n",
              "      <td>100.000</td>\n",
              "      <td>173</td>\n",
              "      <td>0</td>\n",
              "      <td>0</td>\n",
              "      <td>1</td>\n",
              "      <td>173</td>\n",
              "      <td>1</td>\n",
              "      <td>173</td>\n",
              "      <td>1.660000e-130</td>\n",
              "      <td>359.0</td>\n",
              "    </tr>\n",
              "    <tr>\n",
              "      <th>8</th>\n",
              "      <td>5</td>\n",
              "      <td>lcl|HF680312.1_prot_CCU71924.1_1475</td>\n",
              "      <td>97.143</td>\n",
              "      <td>35</td>\n",
              "      <td>1</td>\n",
              "      <td>0</td>\n",
              "      <td>1</td>\n",
              "      <td>35</td>\n",
              "      <td>1</td>\n",
              "      <td>35</td>\n",
              "      <td>1.510000e-19</td>\n",
              "      <td>75.1</td>\n",
              "    </tr>\n",
              "    <tr>\n",
              "      <th>9</th>\n",
              "      <td>6</td>\n",
              "      <td>lcl|HF680312.1_prot_CCU71587.1_1138</td>\n",
              "      <td>98.024</td>\n",
              "      <td>253</td>\n",
              "      <td>5</td>\n",
              "      <td>0</td>\n",
              "      <td>1</td>\n",
              "      <td>253</td>\n",
              "      <td>29</td>\n",
              "      <td>281</td>\n",
              "      <td>1.320000e-176</td>\n",
              "      <td>484.0</td>\n",
              "    </tr>\n",
              "    <tr>\n",
              "      <th>11</th>\n",
              "      <td>7</td>\n",
              "      <td>lcl|HF680312.1_prot_CCU71586.1_1137</td>\n",
              "      <td>100.000</td>\n",
              "      <td>391</td>\n",
              "      <td>0</td>\n",
              "      <td>0</td>\n",
              "      <td>1</td>\n",
              "      <td>391</td>\n",
              "      <td>1</td>\n",
              "      <td>391</td>\n",
              "      <td>0.000000e+00</td>\n",
              "      <td>810.0</td>\n",
              "    </tr>\n",
              "  </tbody>\n",
              "</table>\n",
              "</div>\n",
              "      <button class=\"colab-df-convert\" onclick=\"convertToInteractive('df-b96f5760-de3b-4bbc-8338-875b86c7e306')\"\n",
              "              title=\"Convert this dataframe to an interactive table.\"\n",
              "              style=\"display:none;\">\n",
              "        \n",
              "  <svg xmlns=\"http://www.w3.org/2000/svg\" height=\"24px\"viewBox=\"0 0 24 24\"\n",
              "       width=\"24px\">\n",
              "    <path d=\"M0 0h24v24H0V0z\" fill=\"none\"/>\n",
              "    <path d=\"M18.56 5.44l.94 2.06.94-2.06 2.06-.94-2.06-.94-.94-2.06-.94 2.06-2.06.94zm-11 1L8.5 8.5l.94-2.06 2.06-.94-2.06-.94L8.5 2.5l-.94 2.06-2.06.94zm10 10l.94 2.06.94-2.06 2.06-.94-2.06-.94-.94-2.06-.94 2.06-2.06.94z\"/><path d=\"M17.41 7.96l-1.37-1.37c-.4-.4-.92-.59-1.43-.59-.52 0-1.04.2-1.43.59L10.3 9.45l-7.72 7.72c-.78.78-.78 2.05 0 2.83L4 21.41c.39.39.9.59 1.41.59.51 0 1.02-.2 1.41-.59l7.78-7.78 2.81-2.81c.8-.78.8-2.07 0-2.86zM5.41 20L4 18.59l7.72-7.72 1.47 1.35L5.41 20z\"/>\n",
              "  </svg>\n",
              "      </button>\n",
              "      \n",
              "  <style>\n",
              "    .colab-df-container {\n",
              "      display:flex;\n",
              "      flex-wrap:wrap;\n",
              "      gap: 12px;\n",
              "    }\n",
              "\n",
              "    .colab-df-convert {\n",
              "      background-color: #E8F0FE;\n",
              "      border: none;\n",
              "      border-radius: 50%;\n",
              "      cursor: pointer;\n",
              "      display: none;\n",
              "      fill: #1967D2;\n",
              "      height: 32px;\n",
              "      padding: 0 0 0 0;\n",
              "      width: 32px;\n",
              "    }\n",
              "\n",
              "    .colab-df-convert:hover {\n",
              "      background-color: #E2EBFA;\n",
              "      box-shadow: 0px 1px 2px rgba(60, 64, 67, 0.3), 0px 1px 3px 1px rgba(60, 64, 67, 0.15);\n",
              "      fill: #174EA6;\n",
              "    }\n",
              "\n",
              "    [theme=dark] .colab-df-convert {\n",
              "      background-color: #3B4455;\n",
              "      fill: #D2E3FC;\n",
              "    }\n",
              "\n",
              "    [theme=dark] .colab-df-convert:hover {\n",
              "      background-color: #434B5C;\n",
              "      box-shadow: 0px 1px 3px 1px rgba(0, 0, 0, 0.15);\n",
              "      filter: drop-shadow(0px 1px 2px rgba(0, 0, 0, 0.3));\n",
              "      fill: #FFFFFF;\n",
              "    }\n",
              "  </style>\n",
              "\n",
              "      <script>\n",
              "        const buttonEl =\n",
              "          document.querySelector('#df-b96f5760-de3b-4bbc-8338-875b86c7e306 button.colab-df-convert');\n",
              "        buttonEl.style.display =\n",
              "          google.colab.kernel.accessAllowed ? 'block' : 'none';\n",
              "\n",
              "        async function convertToInteractive(key) {\n",
              "          const element = document.querySelector('#df-b96f5760-de3b-4bbc-8338-875b86c7e306');\n",
              "          const dataTable =\n",
              "            await google.colab.kernel.invokeFunction('convertToInteractive',\n",
              "                                                     [key], {});\n",
              "          if (!dataTable) return;\n",
              "\n",
              "          const docLinkHtml = 'Like what you see? Visit the ' +\n",
              "            '<a target=\"_blank\" href=https://colab.research.google.com/notebooks/data_table.ipynb>data table notebook</a>'\n",
              "            + ' to learn more about interactive tables.';\n",
              "          element.innerHTML = '';\n",
              "          dataTable['output_type'] = 'display_data';\n",
              "          await google.colab.output.renderOutput(dataTable, element);\n",
              "          const docLink = document.createElement('div');\n",
              "          docLink.innerHTML = docLinkHtml;\n",
              "          element.appendChild(docLink);\n",
              "        }\n",
              "      </script>\n",
              "    </div>\n",
              "  </div>\n",
              "  "
            ]
          },
          "metadata": {},
          "execution_count": 172
        }
      ]
    },
    {
      "cell_type": "code",
      "source": [
        "def print_dict(d, count=5):\n",
        "  ind = 0\n",
        "  for key, value in d.items():\n",
        "    if ind < count:\n",
        "      print(key, value)\n",
        "      ind += 1"
      ],
      "metadata": {
        "id": "2VOI9ZBAvk6w"
      },
      "execution_count": 173,
      "outputs": []
    },
    {
      "cell_type": "code",
      "source": [
        "# создадим словарь соответствия Query sequence ID -> Subject sequence ID\n",
        "qs_id_ss_id = dict()\n",
        "for _, record in df.iterrows():\n",
        "  qs_id_ss_id[record['Query sequence ID']] = record['Subject sequence ID'].split('_')[2]\n",
        "\n",
        "print_dict(qs_id_ss_id)"
      ],
      "metadata": {
        "colab": {
          "base_uri": "https://localhost:8080/"
        },
        "id": "rSvdXa1dK-M8",
        "outputId": "27fd1e62-317e-41fc-c9f7-8e9564a96bdd"
      },
      "execution_count": 174,
      "outputs": [
        {
          "output_type": "stream",
          "name": "stdout",
          "text": [
            "1 CCU71653.1\n",
            "3 CCU71928.1\n",
            "5 CCU71924.1\n",
            "6 CCU71587.1\n",
            "7 CCU71586.1\n"
          ]
        }
      ]
    },
    {
      "cell_type": "code",
      "source": [
        "mil_1_genome = SeqIO.read(\"/content/T_oleivorans_MIL_1.gbk\", \"genbank\")"
      ],
      "metadata": {
        "id": "MxKSgTvihLIY"
      },
      "execution_count": 175,
      "outputs": []
    },
    {
      "cell_type": "code",
      "metadata": {
        "id": "4EDCGDdmZt8O",
        "colab": {
          "base_uri": "https://localhost:8080/"
        },
        "outputId": "034dc30a-21c5-4e64-e43d-6a11f42f3782"
      },
      "source": [
        "# создадим словарь соответствия Subject sequence ID -> product(функция белка)\n",
        "ss_id_product = dict()\n",
        "for mil_1_feature in mil_1_genome.features:\n",
        "  if ('protein_id' not in mil_1_feature.qualifiers) or ('product' not in mil_1_feature.qualifiers):\n",
        "    continue\n",
        "  ss_id_product[mil_1_feature.qualifiers['protein_id'][0]] = mil_1_feature.qualifiers['product']\n",
        "\n",
        "print_dict(ss_id_product)"
      ],
      "execution_count": 176,
      "outputs": [
        {
          "output_type": "stream",
          "name": "stdout",
          "text": [
            "CCU70450.1 ['chromosomal replication initiator protein']\n",
            "CCU70451.1 ['DNA polymerase III subunit beta']\n",
            "CCU70452.1 ['DNA replication and repair protein RecF']\n",
            "CCU70453.1 ['DNA gyrase subunit B']\n",
            "CCU70454.1 ['hypothetical protein']\n"
          ]
        }
      ]
    },
    {
      "cell_type": "code",
      "source": [
        "# будем итерироваться по скаффолдам, для каждого скаффолда - по найденным генам \n",
        "# если для гена найден аналог в геноме похожей бактерии, добавляем соответствующее название\n",
        "# если для гена найден аналог в геноме похожей бактерии и у него указана функция белка, добавляем соответствующую функцию белка\n",
        "count_added_notes = 0\n",
        "count_added_products = 0\n",
        "for scaffold_name, scaffold in scaffolds.items():\n",
        "  for feature in scaffold.features:\n",
        "    qs_id = int(feature.qualifiers['locus_tag'][0])\n",
        "    if qs_id in qs_id_ss_id:\n",
        "      feature.qualifiers['note'] = [qs_id_ss_id[qs_id]]\n",
        "      count_added_notes += 1\n",
        "      ss_id = qs_id_ss_id[qs_id]\n",
        "      if ss_id in ss_id_product:\n",
        "        feature.qualifiers['product'] = ss_id_product[ss_id]\n",
        "        count_added_products += 1\n",
        "print(\"Добавлено названий\", count_added_notes)\n",
        "print(\"Добавлено функций\", count_added_products)"
      ],
      "metadata": {
        "id": "eK-3-vRCxHEP",
        "colab": {
          "base_uri": "https://localhost:8080/"
        },
        "outputId": "7a6f9385-732c-4eef-d963-30e903d4a449"
      },
      "execution_count": 177,
      "outputs": [
        {
          "output_type": "stream",
          "name": "stdout",
          "text": [
            "Добавлено названий 3332\n",
            "Добавлено функций 3332\n"
          ]
        }
      ]
    },
    {
      "cell_type": "code",
      "source": [
        "print(scaffolds[\"scaffold1_cov231\"].features[0])"
      ],
      "metadata": {
        "id": "KHcrRw4HxTzk",
        "colab": {
          "base_uri": "https://localhost:8080/"
        },
        "outputId": "dfbb8185-a8af-44ea-abc4-efe667e981a2"
      },
      "execution_count": 178,
      "outputs": [
        {
          "output_type": "stream",
          "name": "stdout",
          "text": [
            "type: CDS\n",
            "location: [3:299](-)\n",
            "qualifiers:\n",
            "    Key: locus_tag, Value: ['1']\n",
            "    Key: note, Value: ['CCU71653.1']\n",
            "    Key: product, Value: ['transposase orfA']\n",
            "    Key: translation, Value: [Seq('MPKYTKPRKTWQYSNEFKVKAVQLSLIEGIQVKEVAVTLDIHPFMLSRWRKEYR...LKK')]\n",
            "\n"
          ]
        }
      ]
    },
    {
      "cell_type": "markdown",
      "source": [
        "## Добавляем функции белков (из БД SwissProt)"
      ],
      "metadata": {
        "id": "Pr5GctSQxlsQ"
      }
    },
    {
      "cell_type": "code",
      "source": [
        "df = pd.read_csv(\"/content/scaffolds.hits_from_SwissProt.txt\", sep='\\t', header=None, names=\n",
        "                 [\"Query sequence ID\", \"Subject sequence ID\", \"Percentage of identical positions\", \n",
        "                  \"Alignment length\", \"Number of mismatches\", \"Number of gap openings\",\n",
        "                  \"Start position of alignment on query sequence\", \"End position of alignment on query sequence\",\n",
        "                  \"Start position of alignment on subject sequence\", \"End position of alignment on subject sequence\",\n",
        "                  \"Expect value\", \"Bit score\"])\n",
        "df = df.sort_values(by=[\"Bit score\"], ascending=False).drop_duplicates(subset=[\"Query sequence ID\"]).sort_values(by=[\"Query sequence ID\"])\n",
        "df.head()"
      ],
      "metadata": {
        "colab": {
          "base_uri": "https://localhost:8080/",
          "height": 374
        },
        "id": "Sonzdb_SVRBj",
        "outputId": "d0a675aa-0aac-43cc-c197-eaa31daa96ef"
      },
      "execution_count": 179,
      "outputs": [
        {
          "output_type": "execute_result",
          "data": {
            "text/plain": [
              "    Query sequence ID   Subject sequence ID  \\\n",
              "0                 169  sp|P55546|Y4LF_SINFN   \n",
              "1                 428  sp|Q06916|GUFA_MYXXA   \n",
              "69                591  sp|P08956|T1RK_ECOLI   \n",
              "74                597  sp|Q9V1E9|KTHY_PYRAB   \n",
              "78                600  sp|P06990|T1SB_ECOLX   \n",
              "\n",
              "    Percentage of identical positions  Alignment length  Number of mismatches  \\\n",
              "0                              42.553               141                    80   \n",
              "1                              43.802               242                   136   \n",
              "69                             40.701              1199                   642   \n",
              "74                             39.073               151                    76   \n",
              "78                             35.794               447                   271   \n",
              "\n",
              "    Number of gap openings  Start position of alignment on query sequence  \\\n",
              "0                        1                                              1   \n",
              "1                        0                                             71   \n",
              "69                      23                                              8   \n",
              "74                       5                                              3   \n",
              "78                       5                                              4   \n",
              "\n",
              "    End position of alignment on query sequence  \\\n",
              "0                                           141   \n",
              "1                                           312   \n",
              "69                                         1171   \n",
              "74                                          138   \n",
              "78                                          436   \n",
              "\n",
              "    Start position of alignment on subject sequence  \\\n",
              "0                                                 1   \n",
              "1                                                13   \n",
              "69                                                5   \n",
              "74                                                4   \n",
              "78                                               19   \n",
              "\n",
              "    End position of alignment on subject sequence  Expect value  Bit score  \n",
              "0                                             140  1.180000e-36      144.0  \n",
              "1                                             254  2.330000e-47      162.0  \n",
              "69                                           1169  0.000000e+00      837.0  \n",
              "74                                            153  3.120000e-15       73.9  \n",
              "78                                            463  4.330000e-71      238.0  "
            ],
            "text/html": [
              "\n",
              "  <div id=\"df-67e7d3ff-d89e-49e2-9fac-5cc87aaaeac2\">\n",
              "    <div class=\"colab-df-container\">\n",
              "      <div>\n",
              "<style scoped>\n",
              "    .dataframe tbody tr th:only-of-type {\n",
              "        vertical-align: middle;\n",
              "    }\n",
              "\n",
              "    .dataframe tbody tr th {\n",
              "        vertical-align: top;\n",
              "    }\n",
              "\n",
              "    .dataframe thead th {\n",
              "        text-align: right;\n",
              "    }\n",
              "</style>\n",
              "<table border=\"1\" class=\"dataframe\">\n",
              "  <thead>\n",
              "    <tr style=\"text-align: right;\">\n",
              "      <th></th>\n",
              "      <th>Query sequence ID</th>\n",
              "      <th>Subject sequence ID</th>\n",
              "      <th>Percentage of identical positions</th>\n",
              "      <th>Alignment length</th>\n",
              "      <th>Number of mismatches</th>\n",
              "      <th>Number of gap openings</th>\n",
              "      <th>Start position of alignment on query sequence</th>\n",
              "      <th>End position of alignment on query sequence</th>\n",
              "      <th>Start position of alignment on subject sequence</th>\n",
              "      <th>End position of alignment on subject sequence</th>\n",
              "      <th>Expect value</th>\n",
              "      <th>Bit score</th>\n",
              "    </tr>\n",
              "  </thead>\n",
              "  <tbody>\n",
              "    <tr>\n",
              "      <th>0</th>\n",
              "      <td>169</td>\n",
              "      <td>sp|P55546|Y4LF_SINFN</td>\n",
              "      <td>42.553</td>\n",
              "      <td>141</td>\n",
              "      <td>80</td>\n",
              "      <td>1</td>\n",
              "      <td>1</td>\n",
              "      <td>141</td>\n",
              "      <td>1</td>\n",
              "      <td>140</td>\n",
              "      <td>1.180000e-36</td>\n",
              "      <td>144.0</td>\n",
              "    </tr>\n",
              "    <tr>\n",
              "      <th>1</th>\n",
              "      <td>428</td>\n",
              "      <td>sp|Q06916|GUFA_MYXXA</td>\n",
              "      <td>43.802</td>\n",
              "      <td>242</td>\n",
              "      <td>136</td>\n",
              "      <td>0</td>\n",
              "      <td>71</td>\n",
              "      <td>312</td>\n",
              "      <td>13</td>\n",
              "      <td>254</td>\n",
              "      <td>2.330000e-47</td>\n",
              "      <td>162.0</td>\n",
              "    </tr>\n",
              "    <tr>\n",
              "      <th>69</th>\n",
              "      <td>591</td>\n",
              "      <td>sp|P08956|T1RK_ECOLI</td>\n",
              "      <td>40.701</td>\n",
              "      <td>1199</td>\n",
              "      <td>642</td>\n",
              "      <td>23</td>\n",
              "      <td>8</td>\n",
              "      <td>1171</td>\n",
              "      <td>5</td>\n",
              "      <td>1169</td>\n",
              "      <td>0.000000e+00</td>\n",
              "      <td>837.0</td>\n",
              "    </tr>\n",
              "    <tr>\n",
              "      <th>74</th>\n",
              "      <td>597</td>\n",
              "      <td>sp|Q9V1E9|KTHY_PYRAB</td>\n",
              "      <td>39.073</td>\n",
              "      <td>151</td>\n",
              "      <td>76</td>\n",
              "      <td>5</td>\n",
              "      <td>3</td>\n",
              "      <td>138</td>\n",
              "      <td>4</td>\n",
              "      <td>153</td>\n",
              "      <td>3.120000e-15</td>\n",
              "      <td>73.9</td>\n",
              "    </tr>\n",
              "    <tr>\n",
              "      <th>78</th>\n",
              "      <td>600</td>\n",
              "      <td>sp|P06990|T1SB_ECOLX</td>\n",
              "      <td>35.794</td>\n",
              "      <td>447</td>\n",
              "      <td>271</td>\n",
              "      <td>5</td>\n",
              "      <td>4</td>\n",
              "      <td>436</td>\n",
              "      <td>19</td>\n",
              "      <td>463</td>\n",
              "      <td>4.330000e-71</td>\n",
              "      <td>238.0</td>\n",
              "    </tr>\n",
              "  </tbody>\n",
              "</table>\n",
              "</div>\n",
              "      <button class=\"colab-df-convert\" onclick=\"convertToInteractive('df-67e7d3ff-d89e-49e2-9fac-5cc87aaaeac2')\"\n",
              "              title=\"Convert this dataframe to an interactive table.\"\n",
              "              style=\"display:none;\">\n",
              "        \n",
              "  <svg xmlns=\"http://www.w3.org/2000/svg\" height=\"24px\"viewBox=\"0 0 24 24\"\n",
              "       width=\"24px\">\n",
              "    <path d=\"M0 0h24v24H0V0z\" fill=\"none\"/>\n",
              "    <path d=\"M18.56 5.44l.94 2.06.94-2.06 2.06-.94-2.06-.94-.94-2.06-.94 2.06-2.06.94zm-11 1L8.5 8.5l.94-2.06 2.06-.94-2.06-.94L8.5 2.5l-.94 2.06-2.06.94zm10 10l.94 2.06.94-2.06 2.06-.94-2.06-.94-.94-2.06-.94 2.06-2.06.94z\"/><path d=\"M17.41 7.96l-1.37-1.37c-.4-.4-.92-.59-1.43-.59-.52 0-1.04.2-1.43.59L10.3 9.45l-7.72 7.72c-.78.78-.78 2.05 0 2.83L4 21.41c.39.39.9.59 1.41.59.51 0 1.02-.2 1.41-.59l7.78-7.78 2.81-2.81c.8-.78.8-2.07 0-2.86zM5.41 20L4 18.59l7.72-7.72 1.47 1.35L5.41 20z\"/>\n",
              "  </svg>\n",
              "      </button>\n",
              "      \n",
              "  <style>\n",
              "    .colab-df-container {\n",
              "      display:flex;\n",
              "      flex-wrap:wrap;\n",
              "      gap: 12px;\n",
              "    }\n",
              "\n",
              "    .colab-df-convert {\n",
              "      background-color: #E8F0FE;\n",
              "      border: none;\n",
              "      border-radius: 50%;\n",
              "      cursor: pointer;\n",
              "      display: none;\n",
              "      fill: #1967D2;\n",
              "      height: 32px;\n",
              "      padding: 0 0 0 0;\n",
              "      width: 32px;\n",
              "    }\n",
              "\n",
              "    .colab-df-convert:hover {\n",
              "      background-color: #E2EBFA;\n",
              "      box-shadow: 0px 1px 2px rgba(60, 64, 67, 0.3), 0px 1px 3px 1px rgba(60, 64, 67, 0.15);\n",
              "      fill: #174EA6;\n",
              "    }\n",
              "\n",
              "    [theme=dark] .colab-df-convert {\n",
              "      background-color: #3B4455;\n",
              "      fill: #D2E3FC;\n",
              "    }\n",
              "\n",
              "    [theme=dark] .colab-df-convert:hover {\n",
              "      background-color: #434B5C;\n",
              "      box-shadow: 0px 1px 3px 1px rgba(0, 0, 0, 0.15);\n",
              "      filter: drop-shadow(0px 1px 2px rgba(0, 0, 0, 0.3));\n",
              "      fill: #FFFFFF;\n",
              "    }\n",
              "  </style>\n",
              "\n",
              "      <script>\n",
              "        const buttonEl =\n",
              "          document.querySelector('#df-67e7d3ff-d89e-49e2-9fac-5cc87aaaeac2 button.colab-df-convert');\n",
              "        buttonEl.style.display =\n",
              "          google.colab.kernel.accessAllowed ? 'block' : 'none';\n",
              "\n",
              "        async function convertToInteractive(key) {\n",
              "          const element = document.querySelector('#df-67e7d3ff-d89e-49e2-9fac-5cc87aaaeac2');\n",
              "          const dataTable =\n",
              "            await google.colab.kernel.invokeFunction('convertToInteractive',\n",
              "                                                     [key], {});\n",
              "          if (!dataTable) return;\n",
              "\n",
              "          const docLinkHtml = 'Like what you see? Visit the ' +\n",
              "            '<a target=\"_blank\" href=https://colab.research.google.com/notebooks/data_table.ipynb>data table notebook</a>'\n",
              "            + ' to learn more about interactive tables.';\n",
              "          element.innerHTML = '';\n",
              "          dataTable['output_type'] = 'display_data';\n",
              "          await google.colab.output.renderOutput(dataTable, element);\n",
              "          const docLink = document.createElement('div');\n",
              "          docLink.innerHTML = docLinkHtml;\n",
              "          element.appendChild(docLink);\n",
              "        }\n",
              "      </script>\n",
              "    </div>\n",
              "  </div>\n",
              "  "
            ]
          },
          "metadata": {},
          "execution_count": 179
        }
      ]
    },
    {
      "cell_type": "code",
      "source": [
        "# создадим словарь соответствия Query sequence ID -> Subject sequence ID\n",
        "qs_id_ss_id = dict()\n",
        "for _, record in df.iterrows():\n",
        "  qs_id_ss_id[record['Query sequence ID']] = record['Subject sequence ID'].split('|')[-1]\n",
        "\n",
        "print_dict(qs_id_ss_id)"
      ],
      "metadata": {
        "colab": {
          "base_uri": "https://localhost:8080/"
        },
        "id": "6FMH4gvjVkoE",
        "outputId": "dd19ee9d-29b7-45c6-f678-68db051c13dd"
      },
      "execution_count": 180,
      "outputs": [
        {
          "output_type": "stream",
          "name": "stdout",
          "text": [
            "169 Y4LF_SINFN\n",
            "428 GUFA_MYXXA\n",
            "591 T1RK_ECOLI\n",
            "597 KTHY_PYRAB\n",
            "600 T1SB_ECOLX\n"
          ]
        }
      ]
    },
    {
      "cell_type": "markdown",
      "source": [
        "Получить функции белков SwissProt из файла: https://ftp.uniprot.org/pub/databases/uniprot/current_release/knowledgebase/complete/uniprot_sprot.dat.gz"
      ],
      "metadata": {
        "id": "HWWUeHCdyAdb"
      }
    },
    {
      "cell_type": "code",
      "source": [
        "!wget https://ftp.uniprot.org/pub/databases/uniprot/current_release/knowledgebase/complete/uniprot_sprot.dat.gz"
      ],
      "metadata": {
        "colab": {
          "base_uri": "https://localhost:8080/"
        },
        "id": "tTRJ0KfnWIdt",
        "outputId": "b92dfd3b-5c31-44cb-85da-f83aa390be84"
      },
      "execution_count": 181,
      "outputs": [
        {
          "output_type": "stream",
          "name": "stdout",
          "text": [
            "--2022-10-19 14:59:42--  https://ftp.uniprot.org/pub/databases/uniprot/current_release/knowledgebase/complete/uniprot_sprot.dat.gz\n",
            "Resolving ftp.uniprot.org (ftp.uniprot.org)... 128.175.240.195\n",
            "Connecting to ftp.uniprot.org (ftp.uniprot.org)|128.175.240.195|:443... connected.\n",
            "HTTP request sent, awaiting response... 200 OK\n",
            "Length: 642093634 (612M) [application/x-gzip]\n",
            "Saving to: ‘uniprot_sprot.dat.gz.1’\n",
            "\n",
            "uniprot_sprot.dat.g 100%[===================>] 612.35M   149MB/s    in 3.7s    \n",
            "\n",
            "2022-10-19 14:59:46 (166 MB/s) - ‘uniprot_sprot.dat.gz.1’ saved [642093634/642093634]\n",
            "\n"
          ]
        }
      ]
    },
    {
      "cell_type": "code",
      "source": [
        "!gzip -d uniprot_sprot.dat.gz"
      ],
      "metadata": {
        "id": "_7n4ZxdjWPxH",
        "colab": {
          "base_uri": "https://localhost:8080/"
        },
        "outputId": "30d97504-1076-4ca5-e703-7b855b0026d6"
      },
      "execution_count": 182,
      "outputs": [
        {
          "output_type": "stream",
          "name": "stdout",
          "text": [
            "gzip: uniprot_sprot.dat already exists; do you wish to overwrite (y or n)? y\n"
          ]
        }
      ]
    },
    {
      "cell_type": "code",
      "source": [
        "!grep -E '^(ID|DE   RecName: Full=)' uniprot_sprot.dat > uniprot_lines.txt"
      ],
      "metadata": {
        "id": "-nbARM7PWy3z"
      },
      "execution_count": 183,
      "outputs": []
    },
    {
      "cell_type": "code",
      "source": [
        "# создадим словарь соответствия Subject sequence ID -> product(функция белка)\n",
        "ss_id_product = dict()\n",
        "\n",
        "id = ''\n",
        "\n",
        "with open('uniprot_lines.txt') as file:\n",
        "  for line in file:\n",
        "    tokens = line.split()\n",
        "    if tokens[0] == 'ID':\n",
        "      id = tokens[1]\n",
        "    else:\n",
        "      ss_id_product[id] = line.split('=')[-1][:-2]\n",
        "\n",
        "print_dict(ss_id_product)"
      ],
      "metadata": {
        "colab": {
          "base_uri": "https://localhost:8080/"
        },
        "id": "fERHp7LsXkAp",
        "outputId": "e7c997f7-8087-4866-8b15-145e72fee3ab"
      },
      "execution_count": 185,
      "outputs": [
        {
          "output_type": "stream",
          "name": "stdout",
          "text": [
            "001R_FRG3G Putative transcription factor 001R\n",
            "002L_FRG3G Uncharacterized protein 002L\n",
            "002R_IIV3 Uncharacterized protein 002R\n",
            "003L_IIV3 Uncharacterized protein 003L\n",
            "003R_FRG3G Uncharacterized protein 3R\n"
          ]
        }
      ]
    },
    {
      "cell_type": "code",
      "source": [
        "# будем итерироваться по скаффолдам, для каждого скаффолда - по найденным генам \n",
        "# если для гена найден аналог в геноме похожей бактерии, добавляем соответствующее название\n",
        "# если для гена найден аналог в геноме похожей бактерии и у него указана функция белка, добавляем соответствующую функцию белка\n",
        "count_added_notes = 0\n",
        "count_added_products = 0\n",
        "for scaffold_name, scaffold in scaffolds.items():\n",
        "  for feature in scaffold.features:\n",
        "    qs_id = int(feature.qualifiers['locus_tag'][0])\n",
        "    if qs_id in qs_id_ss_id:\n",
        "      feature.qualifiers['note'] = [qs_id_ss_id[qs_id]]\n",
        "      count_added_notes += 1\n",
        "      ss_id = qs_id_ss_id[qs_id]\n",
        "      if ss_id in ss_id_product:\n",
        "        feature.qualifiers['product'] = ss_id_product[ss_id]\n",
        "        count_added_products += 1\n",
        "print(\"Добавлено названий\", count_added_notes)\n",
        "print(\"Добавлено функций\", count_added_products)"
      ],
      "metadata": {
        "colab": {
          "base_uri": "https://localhost:8080/"
        },
        "id": "UNY0_P01ZYuR",
        "outputId": "6fda3338-e11d-4484-a166-720a993ba063"
      },
      "execution_count": 186,
      "outputs": [
        {
          "output_type": "stream",
          "name": "stdout",
          "text": [
            "Добавлено названий 53\n",
            "Добавлено функций 53\n"
          ]
        }
      ]
    },
    {
      "cell_type": "code",
      "source": [
        "# записываем данные в файл\n",
        "SeqIO.write(scaffolds.values(), \"GENOME.gbk\", \"genbank\")"
      ],
      "metadata": {
        "colab": {
          "base_uri": "https://localhost:8080/"
        },
        "id": "IXgIqcdQfYNT",
        "outputId": "8f65c39c-3d54-42d3-f7f5-89b6885ebc75"
      },
      "execution_count": 187,
      "outputs": [
        {
          "output_type": "execute_result",
          "data": {
            "text/plain": [
              "65"
            ]
          },
          "metadata": {},
          "execution_count": 187
        }
      ]
    }
  ]
}